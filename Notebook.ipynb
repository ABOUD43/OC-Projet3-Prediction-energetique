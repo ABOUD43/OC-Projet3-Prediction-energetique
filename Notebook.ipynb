{
  "nbformat": 4,
  "nbformat_minor": 0,
  "metadata": {
    "colab": {
      "private_outputs": true,
      "provenance": []
    },
    "kernelspec": {
      "name": "python3",
      "display_name": "Python 3"
    }
  },
  "cells": [
    {
      "cell_type": "markdown",
      "metadata": {
        "id": "SZ8Q50Ehexmq"
      },
      "source": [
        "# **Projet 4 : Anticipez les besoins en consommation électrique de bâtiments**"
      ]
    },
    {
      "cell_type": "markdown",
      "metadata": {
        "id": "BHze9QV1z0Fi"
      },
      "source": [
        "- Data : on a deux bases de données concernant les bâtiments de Seattle pour les années de 2015 et 2016.\n",
        "- OBJET :\n",
        "  - prédire les **émissions de CO2** et la **consommation totale d’énergie** de bâtiments pour lesquels elles n’ont pas encore été mesurées.\n",
        "  - Evaluer l'interet de Energy star score\n"
      ]
    },
    {
      "cell_type": "code",
      "metadata": {
        "id": "z98ytvo7YWhC"
      },
      "source": [
        "!pip install -U -q PyDrive\n",
        "from pydrive.auth import GoogleAuth\n",
        "from pydrive.drive import GoogleDrive\n",
        "from google.colab import auth\n",
        "from oauth2client.client import GoogleCredentials"
      ],
      "execution_count": null,
      "outputs": []
    },
    {
      "cell_type": "code",
      "metadata": {
        "id": "QSiSxHxiYa2g"
      },
      "source": [
        "auth.authenticate_user()\n",
        "gauth = GoogleAuth()\n",
        "gauth.credentials = GoogleCredentials.get_application_default()\n",
        "drive = GoogleDrive(gauth)"
      ],
      "execution_count": null,
      "outputs": []
    },
    {
      "cell_type": "code",
      "metadata": {
        "id": "X1VGOQBqYpLP"
      },
      "source": [
        "import matplotlib.pyplot as plt\n",
        "import pandas as pd\n",
        "import numpy as np\n",
        "import seaborn as sns\n",
        "import scipy as sp\n",
        "import sklearn"
      ],
      "execution_count": null,
      "outputs": []
    },
    {
      "cell_type": "markdown",
      "metadata": {
        "id": "5jZ4G-XudxiF"
      },
      "source": [
        "chargement des données"
      ]
    },
    {
      "cell_type": "code",
      "metadata": {
        "id": "irddJ0qdYeAP"
      },
      "source": [
        "downloaded = drive.CreateFile({'id':'1W2dC9esD3VEq4uackezRVviuu_wG1QOG'})\n",
        "downloaded.GetContentFile('2016-building-energy-benchmarking.csv')\n",
        "df16 = pd.read_csv('2016-building-energy-benchmarking.csv', sep = ',', header = None)"
      ],
      "execution_count": null,
      "outputs": []
    },
    {
      "cell_type": "code",
      "metadata": {
        "id": "_40sEpIjr8UP"
      },
      "source": [
        "df16.shape"
      ],
      "execution_count": null,
      "outputs": []
    },
    {
      "cell_type": "code",
      "metadata": {
        "id": "uDkNXMCotZ1H"
      },
      "source": [
        "df16= df16.rename(columns=df16.iloc[0])\n",
        "df16= df16.drop([0])"
      ],
      "execution_count": null,
      "outputs": []
    },
    {
      "cell_type": "code",
      "metadata": {
        "id": "EopXiJSBtxsv"
      },
      "source": [
        "df16.head(3)"
      ],
      "execution_count": null,
      "outputs": []
    },
    {
      "cell_type": "code",
      "metadata": {
        "id": "_IazdgMht-oz"
      },
      "source": [
        "df16.dtypes.value_counts()"
      ],
      "execution_count": null,
      "outputs": []
    },
    {
      "cell_type": "code",
      "metadata": {
        "id": "VmB0BY8AuFig"
      },
      "source": [
        "df16.isna().sum()"
      ],
      "execution_count": null,
      "outputs": []
    },
    {
      "cell_type": "code",
      "metadata": {
        "id": "cYyjWNETFp0Q"
      },
      "source": [
        "df16.nunique()"
      ],
      "execution_count": null,
      "outputs": []
    },
    {
      "cell_type": "code",
      "metadata": {
        "id": "Z8CcpYy8p_6v"
      },
      "source": [
        "downloaded = drive.CreateFile({'id':'1Ejb-snEwVaCINsTcrRw_qJl0zd55X5Yg'})\n",
        "downloaded.GetContentFile('2015-building-energy-benchmarking.csv')\n",
        "df15 = pd.read_csv('2015-building-energy-benchmarking.csv', sep = ',', header = None)"
      ],
      "execution_count": null,
      "outputs": []
    },
    {
      "cell_type": "code",
      "metadata": {
        "id": "Aq_WLzSXsGu_"
      },
      "source": [
        "df15.shape"
      ],
      "execution_count": null,
      "outputs": []
    },
    {
      "cell_type": "code",
      "metadata": {
        "id": "chxwqMVuu5Bh"
      },
      "source": [
        "df15= df15.rename(columns=df15.iloc[0])\n",
        "df15= df15.drop([0])"
      ],
      "execution_count": null,
      "outputs": []
    },
    {
      "cell_type": "code",
      "metadata": {
        "id": "3ruaZWmuu-cP"
      },
      "source": [
        "df15.dtypes.value_counts()"
      ],
      "execution_count": null,
      "outputs": []
    },
    {
      "cell_type": "code",
      "metadata": {
        "id": "xb1siGZ3vIRR"
      },
      "source": [
        "df15.isna().sum()"
      ],
      "execution_count": null,
      "outputs": []
    },
    {
      "cell_type": "code",
      "metadata": {
        "id": "0DLkANtLGBCO"
      },
      "source": [
        "df15.nunique()"
      ],
      "execution_count": null,
      "outputs": []
    },
    {
      "cell_type": "code",
      "metadata": {
        "id": "oWYwCmzRIVl8"
      },
      "source": [
        "set(df16.columns).intersection(set(df15.columns))"
      ],
      "execution_count": null,
      "outputs": []
    },
    {
      "cell_type": "markdown",
      "metadata": {
        "id": "FYUxNqz5JAYM"
      },
      "source": [
        "Columns in df16 not in df15"
      ]
    },
    {
      "cell_type": "code",
      "metadata": {
        "id": "YI0zTMNOKQBb"
      },
      "source": [
        "df16.columns.difference(df15.columns)"
      ],
      "execution_count": null,
      "outputs": []
    },
    {
      "cell_type": "markdown",
      "metadata": {
        "id": "nlO0ttTkJV5u"
      },
      "source": [
        "Columns in df15 not in df16"
      ]
    },
    {
      "cell_type": "code",
      "metadata": {
        "id": "ck3s0uPbI4NV"
      },
      "source": [
        "df15.columns.difference(df16.columns)"
      ],
      "execution_count": null,
      "outputs": []
    },
    {
      "cell_type": "markdown",
      "metadata": {
        "id": "yX84Gv4PyXWT"
      },
      "source": [
        "meme colonnes dans df15 et df16 mais differents nom comme:\n",
        "- GHGEmissionsIntensity(kgCO2e/ft2) et GHGEmissionsIntensity\n",
        "- Comment et Comments\n",
        "- Zip Codes et ZipCode\n",
        "-TotalGHGEmissions et GHGEmissions(MetricTonsCO2e)\n"
      ]
    },
    {
      "cell_type": "code",
      "metadata": {
        "id": "ZjIJI7QmY1oO"
      },
      "source": [
        "#sans mentionné la grandeur\n",
        "df15.rename(columns={'GHGEmissionsIntensity(kgCO2e/ft2)': 'GHGEmissionsIntensity'}, inplace=True)"
      ],
      "execution_count": null,
      "outputs": []
    },
    {
      "cell_type": "markdown",
      "metadata": {
        "id": "V3NUVOOZzhic"
      },
      "source": [
        "**Vérification des id**"
      ]
    },
    {
      "cell_type": "markdown",
      "metadata": {
        "id": "b7FYap9FvfqH"
      },
      "source": [
        "on a des bâtiments communs aux 2 années (2015 et 2016)"
      ]
    },
    {
      "cell_type": "code",
      "metadata": {
        "id": "18ZGa_KYIw-U"
      },
      "source": [
        "# merge on id\n",
        "df = df15.merge(df16, on='OSEBuildingID', how='left').ffill(axis=1)"
      ],
      "execution_count": null,
      "outputs": []
    },
    {
      "cell_type": "code",
      "metadata": {
        "id": "uCuCeqjYeU1f"
      },
      "source": [
        "df['GHGEmissionsIntensity_y'].replace('Non-Compliant','0',inplace=True)\n",
        "df['GHGEmissionsIntensity_y'].replace('Compliant','0',inplace=True)"
      ],
      "execution_count": null,
      "outputs": []
    },
    {
      "cell_type": "code",
      "metadata": {
        "id": "Mr5GH33TRxE1"
      },
      "source": [
        " df['GHGEmissionsIntensity_y']= df['GHGEmissionsIntensity_y'].astype(float)\n",
        "df['GHGEmissionsIntensity_x'] = df['GHGEmissionsIntensity_x'].astype(float)\n",
        "df['SiteEnergyUseWN(kBtu)_x'] = df['SiteEnergyUseWN(kBtu)_x'].astype(float)\n",
        "df['SiteEnergyUseWN(kBtu)_y'] = df['SiteEnergyUseWN(kBtu)_y'].astype(float)"
      ],
      "execution_count": null,
      "outputs": []
    },
    {
      "cell_type": "code",
      "metadata": {
        "id": "Q6QqiiKHWYEl"
      },
      "source": [
        "df16.set_index('OSEBuildingID',inplace=True)\n",
        "df.set_index('OSEBuildingID',inplace=True)\n",
        "df15.set_index('OSEBuildingID',inplace=True)"
      ],
      "execution_count": null,
      "outputs": []
    },
    {
      "cell_type": "markdown",
      "metadata": {
        "id": "axsADET90fxR"
      },
      "source": [
        "Pour les batiments communs : Supprimer les batiments dont les valeurs des variables cibles sont proches"
      ]
    },
    {
      "cell_type": "code",
      "metadata": {
        "id": "0czd2lWzJO9p"
      },
      "source": [
        "\n",
        "# filter\n",
        "df15_new= df15[((df['SiteEnergyUseWN(kBtu)_x'] / df['SiteEnergyUseWN(kBtu)_y'])<= 0.3) |((df['SiteEnergyUseWN(kBtu)_x'] / df['SiteEnergyUseWN(kBtu)_y'])>= 1.2) |((df['GHGEmissionsIntensity_x'] / df['GHGEmissionsIntensity_y'])<= 0.3) |((df['GHGEmissionsIntensity_x'] / df['GHGEmissionsIntensity_y'])>= 1.2) ]"
      ],
      "execution_count": null,
      "outputs": []
    },
    {
      "cell_type": "markdown",
      "metadata": {
        "id": "KmiGlKe0BQ4T"
      },
      "source": [
        "merge de deux dataframe 2015 et 2016 : uniformisation"
      ]
    },
    {
      "cell_type": "code",
      "metadata": {
        "id": "T862gI0gVigG"
      },
      "source": [
        "df = pd.concat([df15_new, df16], axis=0, sort=False)"
      ],
      "execution_count": null,
      "outputs": []
    },
    {
      "cell_type": "code",
      "metadata": {
        "id": "SrxUO3SI4_Xv"
      },
      "source": [
        "df.head(10)"
      ],
      "execution_count": null,
      "outputs": []
    },
    {
      "cell_type": "markdown",
      "metadata": {
        "id": "F96OIGbwas6t"
      },
      "source": [
        "- les variables cibles :\n",
        " - variable energie : SiteEnergyUseWN(kBtu)  \n",
        " - Variable emissions : GHGEmissionsIntensity"
      ]
    },
    {
      "cell_type": "markdown",
      "metadata": {
        "id": "zumcd-YNBjlC"
      },
      "source": [
        "**Etude** **des** **valeurs** **manquantes**"
      ]
    },
    {
      "cell_type": "code",
      "metadata": {
        "id": "iXiTOWBEFU1R"
      },
      "source": [
        "#calcul le taux de NaN pour chaque variable\n",
        "df_nan = df.isna().sum().sort_values(ascending=False)\n",
        "plt.figure(figsize=(10,15))\n",
        "plt.title('Proportion de NaN par variable (%)')\n",
        "sns.barplot(y=df_nan.index, x=df_nan.values/df.shape[0]*100)"
      ],
      "execution_count": null,
      "outputs": []
    },
    {
      "cell_type": "markdown",
      "metadata": {
        "id": "u-06Wc_a03rP"
      },
      "source": [
        "Supprimer les colonnes dont le nombre de NaN est superieur à 85%"
      ]
    },
    {
      "cell_type": "code",
      "metadata": {
        "id": "Ps1MQCxct4cG"
      },
      "source": [
        "df = df.loc[:, df.isnull().mean() <= .85]"
      ],
      "execution_count": null,
      "outputs": []
    },
    {
      "cell_type": "code",
      "metadata": {
        "id": "N4rZc02suIQ9"
      },
      "source": [
        "df.isna().sum().sort_values()"
      ],
      "execution_count": null,
      "outputs": []
    },
    {
      "cell_type": "markdown",
      "metadata": {
        "id": "nkjjQAT6uW9d"
      },
      "source": [
        "supprimer les colonnes inutiles pour la prediction"
      ]
    },
    {
      "cell_type": "code",
      "metadata": {
        "id": "goBVvNfsuSwk"
      },
      "source": [
        "columns_drop =['City', 'State', 'PropertyName', 'DefaultData', 'Address' ,'ZipCode','ComplianceStatus','DataYear',\n",
        " 'SiteEUI(kBtu/sf)', 'SiteEUIWN(kBtu/sf)', 'SourceEUI(kBtu/sf)', 'SourceEUIWN(kBtu/sf)', 'SiteEnergyUse(kBtu)', 'SteamUse(kBtu)', 'Electricity(kWh)','Latitude','Longitude',\n",
        "'Electricity(kBtu)', 'NaturalGas(therms)', 'NaturalGas(kBtu)','TotalGHGEmissions','TaxParcelIdentificationNumber','Neighborhood','CouncilDistrictCode' ]\n",
        "df=df.drop(columns_drop,axis=1)"
      ],
      "execution_count": null,
      "outputs": []
    },
    {
      "cell_type": "code",
      "metadata": {
        "id": "XhwzmWgs8-_Z"
      },
      "source": [
        "df['GHGEmissionsIntensity']= df['GHGEmissionsIntensity'].replace(['0'],np.nan)"
      ],
      "execution_count": null,
      "outputs": []
    },
    {
      "cell_type": "code",
      "metadata": {
        "id": "Cu_hioCy9T_o"
      },
      "source": [
        "df['SiteEnergyUseWN(kBtu)']=df['SiteEnergyUseWN(kBtu)'].replace(['0'],np.nan)"
      ],
      "execution_count": null,
      "outputs": []
    },
    {
      "cell_type": "markdown",
      "metadata": {
        "id": "Wnj1X4FA2SAo"
      },
      "source": [
        "supprimer les batiments sans GHGEmissionsIntensity renseignes"
      ]
    },
    {
      "cell_type": "code",
      "metadata": {
        "id": "IAKiAMkjaFZf"
      },
      "source": [
        "df.dropna(subset=['GHGEmissionsIntensity'],inplace=True)\n",
        "df['GHGEmissionsIntensity'].isna().sum()"
      ],
      "execution_count": null,
      "outputs": []
    },
    {
      "cell_type": "markdown",
      "metadata": {
        "id": "FVkkEoNR2kfs"
      },
      "source": [
        "supprimer les batiments sans SiteEnergyUseWN(KBtu) renseignes"
      ]
    },
    {
      "cell_type": "code",
      "metadata": {
        "id": "hq64X6QJsQzo"
      },
      "source": [
        "df.dropna(subset=['SiteEnergyUseWN(kBtu)'],inplace=True)\n",
        "df['SiteEnergyUseWN(kBtu)'].isna().sum()"
      ],
      "execution_count": null,
      "outputs": []
    },
    {
      "cell_type": "markdown",
      "metadata": {
        "id": "cH-qH2uD5hO8"
      },
      "source": [
        "Distribution des variables cibles"
      ]
    },
    {
      "cell_type": "code",
      "metadata": {
        "id": "j9-51Qbxw9ad"
      },
      "source": [
        "cible_col = df[['SiteEnergyUseWN(kBtu)','GHGEmissionsIntensity']]\n",
        "for column in cible_col:\n",
        "    plt.figure(figsize = (10,10))\n",
        "    sns.distplot(df[column],axlabel=column)\n",
        "    plt.title('Distrubtion de la variable cible : {}'.format(column))\n",
        "    plt.show()"
      ],
      "execution_count": null,
      "outputs": []
    },
    {
      "cell_type": "code",
      "metadata": {
        "id": "sLnrSscRPCQn"
      },
      "source": [
        "from scipy.stats import skew\n",
        "df['SiteEnergyUseWN(kBtu)'] = df['SiteEnergyUseWN(kBtu)'].astype(float)\n",
        "df['GHGEmissionsIntensity'] = df['GHGEmissionsIntensity'].astype(float)\n",
        "print(skew(df['SiteEnergyUseWN(kBtu)']))\n",
        "print(skew(df['GHGEmissionsIntensity']))"
      ],
      "execution_count": null,
      "outputs": []
    },
    {
      "cell_type": "markdown",
      "metadata": {
        "id": "MPUKQXiB25RK"
      },
      "source": [
        " - Valeur de skewenss superieur à 1 alors on peut passer au log"
      ]
    },
    {
      "cell_type": "markdown",
      "metadata": {
        "id": "0n8MEgK-5r2V"
      },
      "source": [
        " Application du transformation logarithmique du variable cible afin d'obtenir une distribution qui se rapproche d'une loi normale"
      ]
    },
    {
      "cell_type": "code",
      "metadata": {
        "id": "6dFJkzBQ3dFB"
      },
      "source": [
        "df['log_SiteEnergyUseWN(kBtu)'] = np.log(df['SiteEnergyUseWN(kBtu)'])\n",
        "df['log_GHGEmissionsIntensity'] = np.log(df['GHGEmissionsIntensity'])\n"
      ],
      "execution_count": null,
      "outputs": []
    },
    {
      "cell_type": "code",
      "metadata": {
        "id": "xu4W-6YBusYB"
      },
      "source": [
        "df['log_SiteEnergyUseWN(kBtu)'].isna().sum()"
      ],
      "execution_count": null,
      "outputs": []
    },
    {
      "cell_type": "code",
      "metadata": {
        "id": "qjkmGBcBu4UC"
      },
      "source": [
        "df['log_GHGEmissionsIntensity'].isna().sum()"
      ],
      "execution_count": null,
      "outputs": []
    },
    {
      "cell_type": "markdown",
      "metadata": {
        "id": "TUAjdJVf6vWN"
      },
      "source": [
        "distribution de nouvelle varible cible ( avec log)"
      ]
    },
    {
      "cell_type": "code",
      "metadata": {
        "id": "tJSfzQnKwUyj"
      },
      "source": [
        "df['log_GHGEmissionsIntensity'] = df['log_GHGEmissionsIntensity'].mask(np.isinf(df['log_GHGEmissionsIntensity']))"
      ],
      "execution_count": null,
      "outputs": []
    },
    {
      "cell_type": "code",
      "metadata": {
        "id": "LEARji27gnzi"
      },
      "source": [
        "df.dropna(subset=['log_GHGEmissionsIntensity'],inplace=True)"
      ],
      "execution_count": null,
      "outputs": []
    },
    {
      "cell_type": "code",
      "metadata": {
        "id": "3__ggGYfih3q"
      },
      "source": [
        "df['log_GHGEmissionsIntensity'].isna().sum()"
      ],
      "execution_count": null,
      "outputs": []
    },
    {
      "cell_type": "code",
      "metadata": {
        "id": "Y4fbQxl9l7a9"
      },
      "source": [
        "new_cible_col = df[['log_SiteEnergyUseWN(kBtu)','log_GHGEmissionsIntensity']]\n",
        "for column in new_cible_col:\n",
        "    plt.figure(figsize = (10,10))\n",
        "    sns.distplot(df[column],axlabel=column)\n",
        "    plt.title('Distrubtion de la variable cible : {}'.format(column))\n",
        "    plt.show()"
      ],
      "execution_count": null,
      "outputs": []
    },
    {
      "cell_type": "markdown",
      "metadata": {
        "id": "IefoWnquCOS-"
      },
      "source": [
        "**Etude des variables catégorielles et numerique**"
      ]
    },
    {
      "cell_type": "markdown",
      "metadata": {
        "id": "qSvaT6k_CdbZ"
      },
      "source": [
        "- columns to categorize :\n",
        " -  BuildingType\n",
        " -  PrimaryPropertyType\n",
        " - ListOfAllPropertyUseTypes\n",
        " - LargestPropertyUseType\n",
        " - SecondLargestPropertyUseType\n",
        " - ThirdLargestPropertyUseType  \n",
        "---\n",
        "\n"
      ]
    },
    {
      "cell_type": "markdown",
      "metadata": {
        "id": "NW1uqc5jCvNu"
      },
      "source": [
        "Pour transformer ces variables catégorielles en variables numeriques , on va utiliser deux methodes : **One Hot Encoding (OHE)** et **Target encoding**"
      ]
    },
    {
      "cell_type": "markdown",
      "metadata": {
        "id": "BmIMaiofDcTa"
      },
      "source": [
        " - One Hot Encoding (OHE) consiste à créer autant de colonnes qu'il y a de catégories (mettre des 0 partout sauf dans la colonne correspondant à la catégorie du bâtiment où on met 1)\n",
        " - Target encoding consiste à  remplacer la catégorie par la valeur moyenne de la variable cible des bâtiments de la même catégorie"
      ]
    },
    {
      "cell_type": "code",
      "metadata": {
        "id": "0PLFprav-KLD"
      },
      "source": [
        "df['PrimaryPropertyType'].unique()"
      ],
      "execution_count": null,
      "outputs": []
    },
    {
      "cell_type": "markdown",
      "metadata": {
        "id": "f-a4eLMlMWgQ"
      },
      "source": [
        "Valeurs quasi identiques"
      ]
    },
    {
      "cell_type": "code",
      "metadata": {
        "id": "11jj0e0TMRrn"
      },
      "source": [
        "df['PrimaryPropertyType'].replace('Restaurant\\n', 'Restaurant',inplace=True)\n",
        "df['PrimaryPropertyType'].replace('Distribution Center\\n','Distribution Center',inplace=True)\n",
        "df['PrimaryPropertyType'].replace('Supermarket / Grocery Store','Supermarket/Grocery Store',inplace=True)\n",
        "df['PrimaryPropertyType'].replace('Residence Hall/Dormitory','Residence Hall',inplace=True)\n",
        "df['PrimaryPropertyType'].replace('Self-Storage Facility\\n','Self-Storage Facility',inplace=True)"
      ],
      "execution_count": null,
      "outputs": []
    },
    {
      "cell_type": "code",
      "metadata": {
        "id": "O6bzOdjKjBn9"
      },
      "source": [
        "df['BuildingType'].unique()"
      ],
      "execution_count": null,
      "outputs": []
    },
    {
      "cell_type": "code",
      "metadata": {
        "id": "52Yr0sxDjMml"
      },
      "source": [
        "df['ListOfAllPropertyUseTypes'].unique()"
      ],
      "execution_count": null,
      "outputs": []
    },
    {
      "cell_type": "code",
      "metadata": {
        "id": "9hF43J5ujS5W"
      },
      "source": [
        "df['LargestPropertyUseType'].unique()"
      ],
      "execution_count": null,
      "outputs": []
    },
    {
      "cell_type": "code",
      "metadata": {
        "id": "AWqyrbZUjXsJ"
      },
      "source": [
        "df['SecondLargestPropertyUseType'].unique()"
      ],
      "execution_count": null,
      "outputs": []
    },
    {
      "cell_type": "code",
      "metadata": {
        "id": "JExzFM9RjgEq"
      },
      "source": [
        "df['ThirdLargestPropertyUseType'].unique()"
      ],
      "execution_count": null,
      "outputs": []
    },
    {
      "cell_type": "code",
      "metadata": {
        "id": "3dicNf_fa1xO"
      },
      "source": [
        "#Le nombre de bâtiments ne peut être nul\n",
        "df[\"NumberofBuildings\"].unique()"
      ],
      "execution_count": null,
      "outputs": []
    },
    {
      "cell_type": "markdown",
      "metadata": {
        "id": "EHcLYJOzol2z"
      },
      "source": [
        "Imputation de valeurs manquantes pour les colonnes numeriques par la moyenne de Property type"
      ]
    },
    {
      "cell_type": "code",
      "metadata": {
        "id": "j8vUIxyJke_a"
      },
      "source": [
        "num_columns=['ThirdLargestPropertyUseTypeGFA','LargestPropertyUseTypeGFA','SecondLargestPropertyUseTypeGFA']\n",
        "df[num_columns] = df[num_columns].astype('float')"
      ],
      "execution_count": null,
      "outputs": []
    },
    {
      "cell_type": "code",
      "metadata": {
        "id": "zZdTgMADosgh"
      },
      "source": [
        "df['LargestPropertyUseTypeGFA'] = df['LargestPropertyUseTypeGFA'].fillna(df.groupby('PrimaryPropertyType')['LargestPropertyUseTypeGFA'].transform('mean'))"
      ],
      "execution_count": null,
      "outputs": []
    },
    {
      "cell_type": "code",
      "metadata": {
        "id": "_RcoLyfiowpu"
      },
      "source": [
        "df['SecondLargestPropertyUseTypeGFA'] = df['SecondLargestPropertyUseTypeGFA'].fillna(df.groupby('PrimaryPropertyType')['SecondLargestPropertyUseTypeGFA'].transform('mean'))"
      ],
      "execution_count": null,
      "outputs": []
    },
    {
      "cell_type": "code",
      "metadata": {
        "id": "zpJwACkRoxQD"
      },
      "source": [
        "df['ThirdLargestPropertyUseTypeGFA'] = df['ThirdLargestPropertyUseTypeGFA'].fillna(df.groupby('PrimaryPropertyType')['ThirdLargestPropertyUseTypeGFA'].transform('mean'))"
      ],
      "execution_count": null,
      "outputs": []
    },
    {
      "cell_type": "code",
      "metadata": {
        "id": "F-0_avFOjRKP"
      },
      "source": [
        "df['LargestPropertyUseTypeGFA'].isna().sum()"
      ],
      "execution_count": null,
      "outputs": []
    },
    {
      "cell_type": "code",
      "metadata": {
        "id": "e_t6lYVCjXnT"
      },
      "source": [
        "df['SecondLargestPropertyUseTypeGFA'].isna().sum()"
      ],
      "execution_count": null,
      "outputs": []
    },
    {
      "cell_type": "code",
      "metadata": {
        "id": "ETGqPNGbjazZ"
      },
      "source": [
        "df['ThirdLargestPropertyUseTypeGFA'].isna().sum()"
      ],
      "execution_count": null,
      "outputs": []
    },
    {
      "cell_type": "code",
      "metadata": {
        "id": "jZmJCwFmqAgG"
      },
      "source": [
        "df.dropna(subset=['NumberofFloors'],inplace=True)\n",
        "df['NumberofFloors'].isna().sum()"
      ],
      "execution_count": null,
      "outputs": []
    },
    {
      "cell_type": "code",
      "metadata": {
        "id": "XeWG3dInjj3i"
      },
      "source": [
        "df.dropna(subset=['ThirdLargestPropertyUseTypeGFA'],inplace=True)\n",
        "df.dropna(subset=['SecondLargestPropertyUseTypeGFA'],inplace=True)"
      ],
      "execution_count": null,
      "outputs": []
    },
    {
      "cell_type": "code",
      "metadata": {
        "id": "AJ1k9K9rTBUp"
      },
      "source": [
        "df.head(5)"
      ],
      "execution_count": null,
      "outputs": []
    },
    {
      "cell_type": "markdown",
      "metadata": {
        "id": "4-xGA_vxz5fN"
      },
      "source": [
        "Proportion des varaibles categoriels"
      ]
    },
    {
      "cell_type": "code",
      "metadata": {
        "id": "NdIRbnLfpPyV"
      },
      "source": [
        "import matplotlib.pyplot as plt\n",
        "ct_col = df[['BuildingType','PrimaryPropertyType','ListOfAllPropertyUseTypes','LargestPropertyUseType','SecondLargestPropertyUseType','ThirdLargestPropertyUseType']]\n",
        "for column in ct_col:\n",
        "    plt.figure(figsize = (7,7))\n",
        "    df[column].value_counts(normalize=True).plot(kind='pie')\n",
        "    #df[column].value_counts(normalize=True).plot(kind='bar')\n",
        "    plt.title('proportion du variable : {}'.format(column))\n",
        "\n",
        "    plt.show()\n",
        "\n"
      ],
      "execution_count": null,
      "outputs": []
    },
    {
      "cell_type": "code",
      "metadata": {
        "id": "-4foN-q-F40n"
      },
      "source": [
        "for column in ct_col:\n",
        "    plt.figure(figsize = (7,7))\n",
        "    df[column].value_counts(normalize=True).plot(kind='bar')\n",
        "    plt.title('proportion du variable : {}'.format(column))\n",
        "\n",
        "    plt.show()"
      ],
      "execution_count": null,
      "outputs": []
    },
    {
      "cell_type": "code",
      "metadata": {
        "id": "U4r4pB-wH5KY"
      },
      "source": [
        "columns_to_categorize = ['BuildingType','PrimaryPropertyType','ListOfAllPropertyUseTypes','LargestPropertyUseType','SecondLargestPropertyUseType','ThirdLargestPropertyUseType']\n",
        "df[columns_to_categorize] = df[columns_to_categorize].astype('category')\n",
        "df.dtypes"
      ],
      "execution_count": null,
      "outputs": []
    },
    {
      "cell_type": "markdown",
      "metadata": {
        "id": "mR94y-LnTIX4"
      },
      "source": [
        "\n",
        " **One Hot Encoder**"
      ]
    },
    {
      "cell_type": "code",
      "metadata": {
        "id": "2MUZ53zlUUrX"
      },
      "source": [
        "col_ohe = ['BuildingType','PrimaryPropertyType']\n",
        "from sklearn.preprocessing import OneHotEncoder, StandardScaler\n",
        "ohe = OneHotEncoder(sparse=False)\n",
        "transformed = ohe.fit_transform(df[col_ohe])\n",
        "data= pd.DataFrame(transformed,columns=ohe.get_feature_names().tolist())\n",
        "df.reset_index(inplace=True)\n",
        "df= df.drop(['BuildingType','PrimaryPropertyType'],axis=1)\n",
        "#concat with the original data\n",
        "df= pd.concat([df,data],axis=1)"
      ],
      "execution_count": null,
      "outputs": []
    },
    {
      "cell_type": "code",
      "metadata": {
        "id": "PdiOes9hN4yC"
      },
      "source": [
        "df.head(5)"
      ],
      "execution_count": null,
      "outputs": []
    },
    {
      "cell_type": "markdown",
      "metadata": {
        "id": "41ORD6ca0Rx3"
      },
      "source": [
        "**Target Encoding**"
      ]
    },
    {
      "cell_type": "code",
      "metadata": {
        "id": "73TdXVJyrm3d"
      },
      "source": [
        "from sklearn.model_selection import train_test_split\n",
        "cols_te= ['ListOfAllPropertyUseTypes','LargestPropertyUseType','SecondLargestPropertyUseType','ThirdLargestPropertyUseType']\n",
        "df1=df.copy()\n",
        "X=df1\n",
        "Y = df1[['log_SiteEnergyUseWN(kBtu)']]\n",
        "xtrain, xtest, ytrain, ytest = train_test_split(X, Y, train_size=.8,random_state=10)"
      ],
      "execution_count": null,
      "outputs": []
    },
    {
      "cell_type": "code",
      "metadata": {
        "id": "SpI68u_3UgxQ"
      },
      "source": [
        "pip install --upgrade category_encoders"
      ],
      "execution_count": null,
      "outputs": []
    },
    {
      "cell_type": "code",
      "metadata": {
        "id": "MgtPMD_G2AOY"
      },
      "source": [
        "#Target Encoding: encoder la variable catégorielle avec la moyenne de la cible\n",
        "import category_encoders as ce\n",
        "encoder1 = ce.TargetEncoder(cols=cols_te)\n",
        "X_target_encoded1= encoder1.fit_transform(xtrain,ytrain) #(df.Categ,df.Target)\n",
        "X_target_encoded1.sample(10)"
      ],
      "execution_count": null,
      "outputs": []
    },
    {
      "cell_type": "code",
      "metadata": {
        "id": "K70nzK2rSYAW"
      },
      "source": [
        "df2=df.copy()\n",
        "#X= df1.drop(columns=['log_SiteEnergyUseWN(kBtu)','log_GHGEmissionsIntensity'])\n",
        "X2=df2\n",
        "Y2 = df2[['log_GHGEmissionsIntensity']]\n",
        "x_train, x_test, y_train, y_test = train_test_split(X2, Y2, train_size=.8,random_state=10)"
      ],
      "execution_count": null,
      "outputs": []
    },
    {
      "cell_type": "code",
      "metadata": {
        "id": "3KKmQ4uSSi1r"
      },
      "source": [
        "encoder2 = ce.TargetEncoder(cols=cols_te)\n",
        "X_target_encoded2= encoder2.fit_transform(x_train,y_train)\n",
        "X_target_encoded2.sample(10)"
      ],
      "execution_count": null,
      "outputs": []
    },
    {
      "cell_type": "code",
      "metadata": {
        "id": "PFxAXDCoVOer"
      },
      "source": [
        "X_target_encoded2.drop(['SiteEnergyUseWN(kBtu)','GHGEmissionsIntensity'],axis=1,inplace=True)"
      ],
      "execution_count": null,
      "outputs": []
    },
    {
      "cell_type": "code",
      "metadata": {
        "id": "4BGMc5G-Vi90"
      },
      "source": [
        "X_target_encoded1.drop(['SiteEnergyUseWN(kBtu)','GHGEmissionsIntensity'],axis=1,inplace=True)"
      ],
      "execution_count": null,
      "outputs": []
    },
    {
      "cell_type": "markdown",
      "metadata": {
        "id": "uEbGAEq-1Tr8"
      },
      "source": [
        "df1 pour predire \"log_SiteEnergyUseWN(kBtu)\""
      ]
    },
    {
      "cell_type": "code",
      "metadata": {
        "id": "ACfhzX2KpRlf"
      },
      "source": [
        "df1= X_target_encoded1.copy()"
      ],
      "execution_count": null,
      "outputs": []
    },
    {
      "cell_type": "code",
      "metadata": {
        "id": "hHs25RP5pW2_"
      },
      "source": [
        "df1= df1.drop(['log_GHGEmissionsIntensity'],axis=1)"
      ],
      "execution_count": null,
      "outputs": []
    },
    {
      "cell_type": "markdown",
      "metadata": {
        "id": "7aHawuFN1dCM"
      },
      "source": [
        "df2 pour predire \"log_GHGEmissionsIntensity\""
      ]
    },
    {
      "cell_type": "code",
      "metadata": {
        "id": "AV2HbQp71FPU"
      },
      "source": [
        "df2= X_target_encoded2.copy()"
      ],
      "execution_count": null,
      "outputs": []
    },
    {
      "cell_type": "code",
      "metadata": {
        "id": "RWvB4_KE1K_E"
      },
      "source": [
        "df2= df2.drop(['log_SiteEnergyUseWN(kBtu)'],axis=1)"
      ],
      "execution_count": null,
      "outputs": []
    },
    {
      "cell_type": "markdown",
      "metadata": {
        "id": "20g7BKpIXw1r"
      },
      "source": [
        "Transformation des types numeriques  "
      ]
    },
    {
      "cell_type": "code",
      "metadata": {
        "id": "cTiDNbOzpuiW"
      },
      "source": [
        "num_cols= ['OSEBuildingID','YearBuilt','NumberofBuildings','NumberofFloors','PropertyGFATotal','PropertyGFAParking','PropertyGFABuilding(s)']\n",
        "df1[num_cols] = df1[num_cols].astype('float')\n",
        "df1.dtypes"
      ],
      "execution_count": null,
      "outputs": []
    },
    {
      "cell_type": "code",
      "metadata": {
        "id": "1hPlXO451tiK"
      },
      "source": [
        "num= ['OSEBuildingID','YearBuilt','NumberofBuildings','NumberofFloors','PropertyGFATotal','PropertyGFAParking','PropertyGFABuilding(s)']\n",
        "df2[num] = df2[num].astype('float')\n",
        "df2.dtypes"
      ],
      "execution_count": null,
      "outputs": []
    },
    {
      "cell_type": "markdown",
      "metadata": {
        "id": "d2tZGqubbVzY"
      },
      "source": [
        " **Modélisation**"
      ]
    },
    {
      "cell_type": "code",
      "metadata": {
        "id": "9a7Cdj_YCAg6"
      },
      "source": [],
      "execution_count": null,
      "outputs": []
    },
    {
      "cell_type": "markdown",
      "metadata": {
        "id": "XAd2FIAiASVH"
      },
      "source": [
        "les modelés à étudiés sont :\n",
        "- Elastic Net regression\n",
        "- Support vector regressor (SVR)\n",
        "- Bagging : Random forest\n",
        "- Boosting : Gradient Boosting (XGBoost)"
      ]
    },
    {
      "cell_type": "markdown",
      "metadata": {
        "id": "XzPpRXBTCCPB"
      },
      "source": [
        "PROCESSUS :"
      ]
    },
    {
      "cell_type": "markdown",
      "metadata": {
        "id": "55WpWVm-k0MT"
      },
      "source": [
        "- Entrainons les modèles sans le variable d'Energy Star Score\n",
        "-Comparaison des differentes modéles selon le score de GridSearch ( le score de cross validation )\n",
        "- Selectionne du modele finale\n",
        "- Entraine le modele finale uniquement avec les batiments qui ont un energystarscore renseignes."
      ]
    },
    {
      "cell_type": "code",
      "metadata": {
        "id": "zX2_sriCbVUt"
      },
      "source": [
        "from sklearn.model_selection import GridSearchCV\n",
        "from sklearn.metrics import mean_squared_error,r2_score,mean_absolute_error"
      ],
      "execution_count": null,
      "outputs": []
    },
    {
      "cell_type": "markdown",
      "metadata": {
        "id": "Qwub1b4qXS9n"
      },
      "source": [
        "**1- Séparation du jeu de données en Train et Test**"
      ]
    },
    {
      "cell_type": "code",
      "metadata": {
        "id": "mbu9Na8DWX2j"
      },
      "source": [
        "X= df1.drop(['log_SiteEnergyUseWN(kBtu)','ENERGYSTARScore'],axis=1)\n",
        "Y= df1['log_SiteEnergyUseWN(kBtu)']\n",
        "X_train, X_test, Y_train, Y_test = train_test_split(X, Y, test_size=0.3)\n",
        "# standardiser les données\n",
        "std_scale = StandardScaler()\n",
        "X_train = std_scale.fit_transform(X_train) #X_train_std\n",
        "X_test = std_scale.transform(X_test)#X_test_std"
      ],
      "execution_count": null,
      "outputs": []
    },
    {
      "cell_type": "markdown",
      "metadata": {
        "id": "6qZI4-Zsrqm5"
      },
      "source": [
        "**Regression Elastic Net**"
      ]
    },
    {
      "cell_type": "markdown",
      "metadata": {
        "id": "xZihpCEAeW0c"
      },
      "source": [
        "- Le modèle Elastic Net comprend les modèles linéaires ridge et lasso via les valeurs des coefficients de penalite L1 ratio."
      ]
    },
    {
      "cell_type": "code",
      "metadata": {
        "id": "Wi-vfCOrWnpq"
      },
      "source": [
        "from sklearn.linear_model import ElasticNet\n",
        "# grille de paramètres:\n",
        "#alpha exprimer la valeur de lambda qui mesure la complexite du model\n",
        "#L1 ratio est la penalite = 1 équivaut à un Lasso, 0 à un Ridge\n",
        "param_grid = {'alpha':[0.0001, 0.001, 0.01, 0.1, 1, 10], 'l1_ratio':np.arange(0.0, 1.0, 0.1) }\n",
        "# critère de sélection du meilleur modèle :RMSE\n",
        "score = 'neg_mean_squared_error'\n",
        "# initialiser une recherche sur grille\n",
        "grid_elastic1 = GridSearchCV(estimator = ElasticNet(),param_grid= param_grid,scoring= score,cv=5,verbose=0)\n",
        "# Entrainement\n",
        "grid_elastic1.fit(X_train, Y_train)\n",
        "# afficher les paramètres optimaux\n",
        "print(\"The optimal parameters are {} with a score of {:.2f}\".format(grid_elastic1.best_params_, grid_elastic1.best_score_))"
      ],
      "execution_count": null,
      "outputs": []
    },
    {
      "cell_type": "markdown",
      "metadata": {
        "id": "GGILK-g10izF"
      },
      "source": [
        "Le terme l1_ratio est 0.1, signifiant que le poids du L2 (ridge) est plus important que celui du L1 (Lasso) dans la régularisation"
      ]
    },
    {
      "cell_type": "code",
      "metadata": {
        "id": "d8Q8LbxZAluX"
      },
      "source": [
        "# grille de paramètres:\n",
        "#alpha exprimer la valeur de lambda qui mesure la complexite du model\n",
        "#L1 ratio = 1 équivaut à un Lasso, 0 à un Ridge\n",
        "param_grid = {'alpha':[0.0001, 0.001, 0.01, 0.1, 1, 10],'l1_ratio':np.arange(0.0, 1.0, 0.1) }\n",
        "# critère de sélection du meilleur modèle :R2\n",
        "score = 'r2'\n",
        "# initialiser une recherche sur grille\n",
        "grid_elastic2 = GridSearchCV(estimator = ElasticNet(),param_grid= param_grid,scoring= score,cv=5,verbose=0)\n",
        "# Entrainement\n",
        "grid_elastic2.fit(X_train, Y_train)\n",
        "# afficher les paramètres optimaux\n",
        "print(\"The optimal parameters are {} with a score of {:.2f}\".format(grid_elastic2.best_params_, grid_elastic2.best_score_))"
      ],
      "execution_count": null,
      "outputs": []
    },
    {
      "cell_type": "code",
      "metadata": {
        "id": "UhMX6PX_9hy1"
      },
      "source": [
        "# grille de paramètres:\n",
        "#alpha exprimer la valeur de lambda qui mesure la complexite du model\n",
        "#L1 ratio = 1 équivaut à un Lasso, 0 à un Ridge\n",
        "param_grid = {'alpha':[0.0001, 0.001, 0.01, 0.1, 1, 10], 'l1_ratio':np.arange(0.0, 1.0, 0.1) }\n",
        "# critère de sélection du meilleur modèle :R2\n",
        "score = 'neg_mean_absolute_error'\n",
        "# initialiser une recherche sur grille\n",
        "grid_elastic3 = GridSearchCV(estimator = ElasticNet(),param_grid=param_grid, scoring= score,cv=5,verbose=0)\n",
        "# Entrainement\n",
        "grid_elastic3.fit(X_train, Y_train)\n",
        "# afficher les paramètres optimaux\n",
        "print(\"The optimal parameters are {} with a score of {:.2f}\".format(grid_elastic3.best_params_, grid_elastic3.best_score_))"
      ],
      "execution_count": null,
      "outputs": []
    },
    {
      "cell_type": "code",
      "metadata": {
        "id": "ZiHOxHpsGn50"
      },
      "source": [
        "import math\n",
        "result= pd.DataFrame({\n",
        "    'Modèle' : ['Elasticnet Regression'],\n",
        "    'Score_RMSE_test':[math.sqrt(mean_squared_error(grid_elastic1.predict(X_test), Y_test))],\n",
        "    'Score_R2_test':r2_score(grid_elastic2.predict(X_test), Y_test),\n",
        "    'Score_MAE_test':mean_absolute_error(grid_elastic3.predict(X_test), Y_test)\n",
        "})"
      ],
      "execution_count": null,
      "outputs": []
    },
    {
      "cell_type": "code",
      "metadata": {
        "id": "8PherYzyXAV5"
      },
      "source": [
        " result_score= pd.DataFrame({\n",
        "    'Modèle' : ['Elasticnet Regression'],\n",
        "    'Score_RMSE':grid_elastic1.best_score_,\n",
        "    'Score_R2':grid_elastic2.best_score_,\n",
        "    'Score_MAE':grid_elastic3.best_score_\n",
        "})\n"
      ],
      "execution_count": null,
      "outputs": []
    },
    {
      "cell_type": "code",
      "metadata": {
        "id": "J0O2U3_0pVH-"
      },
      "source": [
        "result"
      ],
      "execution_count": null,
      "outputs": []
    },
    {
      "cell_type": "code",
      "metadata": {
        "id": "HjU-Qubf-UEV"
      },
      "source": [
        "result_score"
      ],
      "execution_count": null,
      "outputs": []
    },
    {
      "cell_type": "markdown",
      "metadata": {
        "id": "-ucM6vH4mb03"
      },
      "source": [
        "**Random forest**"
      ]
    },
    {
      "cell_type": "code",
      "metadata": {
        "id": "O1agbvszG-fa"
      },
      "source": [
        "#min_samples_split:est nombre minimal d'exemples que le modèle doit avoir pour pouvoir faire une nouvelle séparation.\n",
        "#criterion : choisir entre deux methodes pour calculer l'erreur de notre modèle lors de son entraînement : entropy'ou 'gini' criterion='mae'\n",
        "\n",
        "#min_sample_leaf : est le minimum d'exemples requis pour créer une feuille.(nombre de feuilles minimales dans un node)\n",
        "#max_features : est le nombre de variables à tester pour chaque arbre :\n",
        "      #-option auto qui effectue un test pour chaque variable du jeu de données\n",
        "      #-option sqrt qui teste la racine carrée du nombre de variables du jeu de données.\n",
        "      #-option log2 qui teste le log2 du nombre de variables du jeu de données.\n",
        "\n",
        "\n",
        "#max_leaf_nodes : est le nombre maximum de feuilles de notre arbre (nombre maxiamle de decision puisque Les décisions sont prises dans les feuilles??? )\n",
        "#n_estimators' : est le nombre d'arbres de décision\n",
        "#max_depth: est la profondeur de l'arbre ( plus l'arbre est profond plus il sera complexe et plus il souffrira du sur-entraînement.)\n",
        "#plus le modèle sera simple et généralisable. Cette meilleure généralisation augmentera les performances du modèle sur le jeu de test."
      ],
      "execution_count": null,
      "outputs": []
    },
    {
      "cell_type": "code",
      "metadata": {
        "id": "nD4FVSukmnxz"
      },
      "source": [
        "from sklearn.ensemble import RandomForestRegressor\n",
        "param_grid= {'max_depth': [5,10,15,20],'max_features':['auto', 'sqrt','log2'],'min_samples_leaf':[1,3,5,10]}\n",
        "score='neg_mean_squared_error'\n",
        "grid_Rforest = GridSearchCV(estimator = RandomForestRegressor(n_estimators=500,random_state=123),param_grid= param_grid,scoring= score,cv=5,verbose=0)\n",
        "grid_Rforest.fit(X_train, Y_train)"
      ],
      "execution_count": null,
      "outputs": []
    },
    {
      "cell_type": "markdown",
      "metadata": {
        "id": "03w7JjIDfJ2C"
      },
      "source": [
        "Le modèle optimal a les caractéristiques suivantes:"
      ]
    },
    {
      "cell_type": "code",
      "metadata": {
        "id": "Je4sfad1Xyq7"
      },
      "source": [
        "grid_Rforest.best_params_"
      ],
      "execution_count": null,
      "outputs": []
    },
    {
      "cell_type": "code",
      "metadata": {
        "id": "IdYuGjX1DpZ0"
      },
      "source": [
        "grid_Rforest.best_estimator_"
      ],
      "execution_count": null,
      "outputs": []
    },
    {
      "cell_type": "code",
      "metadata": {
        "id": "6HirZ0qVIonQ"
      },
      "source": [
        "# l'importance des variables du jeu de données dans la construction des arbres de la forêt.\n",
        "df_rf= pd.DataFrame({'Features' : X.columns,'Features_importances' : grid_Rforest.best_estimator_.feature_importances_})"
      ],
      "execution_count": null,
      "outputs": []
    },
    {
      "cell_type": "code",
      "metadata": {
        "id": "MEjC7FB93bwE"
      },
      "source": [
        "df_rf.sort_values(by='Features_importances', ascending=False,inplace=True)"
      ],
      "execution_count": null,
      "outputs": []
    },
    {
      "cell_type": "code",
      "metadata": {
        "id": "iKx-_Eq1Z1gN"
      },
      "source": [
        "plt.figure(figsize=(10,10))\n",
        "plt.title('RandomForestRegressor - Importance des Features')\n",
        "sns.barplot(y = df_rf['Features'],x = (df_rf['Features_importances']))\n",
        "plt.show()"
      ],
      "execution_count": null,
      "outputs": []
    },
    {
      "cell_type": "code",
      "metadata": {
        "id": "7iaKTA5WZOYl"
      },
      "source": [
        "param_grid= {'max_depth': [5,10,15] ,'max_features':['auto', 'sqrt','log2'] ,'min_samples_leaf':[1,3,5,10,15]}\n",
        "score='r2'\n",
        "grid_Rforest2 = GridSearchCV(estimator = RandomForestRegressor(n_estimators=500,random_state=123),param_grid=param_grid,scoring= score,cv=5,verbose=0)\n",
        "grid_Rforest2.fit(X_train, Y_train)"
      ],
      "execution_count": null,
      "outputs": []
    },
    {
      "cell_type": "code",
      "metadata": {
        "id": "iu-Y7vhN9IMG"
      },
      "source": [
        "grid_Rforest2.best_params_"
      ],
      "execution_count": null,
      "outputs": []
    },
    {
      "cell_type": "code",
      "metadata": {
        "id": "pakABGvM-Z8V"
      },
      "source": [
        "param_grid= {'max_depth': [5,10,15] ,'max_features':['auto', 'sqrt','log2'] ,'min_samples_leaf':[1,3,5,10,15]}\n",
        "score='neg_mean_absolute_error'\n",
        "grid_Rforest3 = GridSearchCV(estimator = RandomForestRegressor(n_estimators=500),param_grid=param_grid,scoring= score,cv=5,verbose=0)\n",
        "grid_Rforest3.fit(X_train, Y_train)"
      ],
      "execution_count": null,
      "outputs": []
    },
    {
      "cell_type": "code",
      "metadata": {
        "id": "EA-EjY3gBo-I"
      },
      "source": [
        "grid_Rforest3.best_params_"
      ],
      "execution_count": null,
      "outputs": []
    },
    {
      "cell_type": "code",
      "metadata": {
        "id": "-wLSbahMX_bf"
      },
      "source": [
        "result = result.append(pd.DataFrame({\n",
        "    'Modèle' : ['Random Forest Regressor'],\n",
        "    'Score_RMSE_test' : [math.sqrt(mean_squared_error(grid_Rforest.predict(X_test),Y_test))],\n",
        "    'Score_R2_test':r2_score(grid_Rforest2.predict(X_test),Y_test),\n",
        "    'Score_MAE_test':mean_absolute_error(grid_Rforest3.predict(X_test),Y_test)\n",
        "    }))\n",
        ""
      ],
      "execution_count": null,
      "outputs": []
    },
    {
      "cell_type": "code",
      "metadata": {
        "id": "gfaA-jryGPdT"
      },
      "source": [
        "result"
      ],
      "execution_count": null,
      "outputs": []
    },
    {
      "cell_type": "code",
      "metadata": {
        "id": "cnEW2lc6abBk"
      },
      "source": [
        " result_score= result_score.append(pd.DataFrame({\n",
        "    'Modèle' : ['Random Forest Regressor'],\n",
        "    'Score_RMSE':grid_Rforest.best_score_,\n",
        "    'Score_R2':grid_Rforest2.best_score_,\n",
        "    'Score_MAE':grid_Rforest3.best_score_\n",
        "}))\n"
      ],
      "execution_count": null,
      "outputs": []
    },
    {
      "cell_type": "code",
      "metadata": {
        "id": "irySPmjxNwqh"
      },
      "source": [
        "result_score"
      ],
      "execution_count": null,
      "outputs": []
    },
    {
      "cell_type": "markdown",
      "metadata": {
        "id": "l_TTES3vviLu"
      },
      "source": [
        "En random forest on obtient une RMSE de 0,304, très légèrement inférieure à la valeur obtenue avec Elastic net regressor (0,471), de plus un score R2 plus eléve qu'on elastic net."
      ]
    },
    {
      "cell_type": "markdown",
      "metadata": {
        "id": "AmhkctYWtbb8"
      },
      "source": [
        "**SVM**"
      ]
    },
    {
      "cell_type": "code",
      "metadata": {
        "id": "_foHuvG3tRoL"
      },
      "source": [
        " #séparateur (l’hyperplan de séparation) qui maximise la marge : séparateur à vaste marge\n",
        " #Kernel : noyau polynominal, quadratique, gauss (rbf : radial basis function)\n",
        " #svm(C=1,kernel='rbf',gamma=0.01,epsilon = )"
      ],
      "execution_count": null,
      "outputs": []
    },
    {
      "cell_type": "markdown",
      "metadata": {
        "id": "kkaBfPorGMG9"
      },
      "source": [
        "If WE choose a SVM we wont be having feature importance parameter, but in decision trees we will get it"
      ]
    },
    {
      "cell_type": "code",
      "metadata": {
        "id": "kM3d7d0BGfrd"
      },
      "source": [
        "from sklearn.svm import SVR #Support Vector Regression\n",
        "param_grid= {'gamma' : [1e-2, 1e-3, 1e-4, 1e-5],\n",
        "              'epsilon' : [0.001, 0.01, 0.1, 1], #erreur tolérée par l'algorithme\n",
        "              'C' : [0.001, 0.10, 0.1, 10, 25, 50,100]} #terme de regularisation qui maximisez la marge et minimisez un terme d'erreur\n",
        "\n",
        "svm_grid1= GridSearchCV(estimator = SVR(),param_grid=param_grid,scoring ='neg_mean_squared_error',cv=5,verbose=0)\n",
        "\n",
        "svm_grid1.fit(X_train, Y_train)"
      ],
      "execution_count": null,
      "outputs": []
    },
    {
      "cell_type": "code",
      "metadata": {
        "id": "Lhl2htN6JEa2"
      },
      "source": [
        "svm_grid1.best_params_"
      ],
      "execution_count": null,
      "outputs": []
    },
    {
      "cell_type": "code",
      "metadata": {
        "id": "9fpBzGLlcawB"
      },
      "source": [
        "param_grid= {'gamma' : [1e-1,1e-2, 1e-3, 1e-4, 1e-5], #kernel coefficient [ici kernel = Radial Basis Function]\n",
        "              'epsilon' : [0.001, 0.01, 0.1, 1], #erreur tolérée par l'algorithme\n",
        "              'C' : [0.001, 0.10, 0.1, 10, 25, 50]} #terme de regularisation qui maximisez la marge et minimisez un terme d'erreur\n",
        "\n",
        "svm_grid2= GridSearchCV(estimator = SVR(),param_grid=param_grid,scoring ='r2',cv=5,verbose=0)\n",
        "\n",
        "svm_grid2.fit(X_train,Y_train)"
      ],
      "execution_count": null,
      "outputs": []
    },
    {
      "cell_type": "code",
      "metadata": {
        "id": "szh7zMaecYHV"
      },
      "source": [
        "svm_grid2.best_params_"
      ],
      "execution_count": null,
      "outputs": []
    },
    {
      "cell_type": "code",
      "metadata": {
        "id": "lCkWJTDhK_zT"
      },
      "source": [
        "param_grid= {'gamma' : [1e-1,1e-2, 1e-3, 1e-4, 1e-5], #kernel coefficient [ici kernel = Radial Basis Function]\n",
        "              'epsilon' : [0.001, 0.01, 0.1, 1], #erreur tolérée par l'algorithme\n",
        "              'C' : [0.001, 0.10, 0.1, 10, 25, 50]} #terme de regularisation qui maximisez la marge et minimisez un terme d'erreur\n",
        "\n",
        "svm_grid3= GridSearchCV(estimator = SVR(),param_grid=param_grid,scoring ='neg_mean_absolute_error',cv=5,verbose=0)\n",
        "\n",
        "svm_grid3.fit(X_train,Y_train)"
      ],
      "execution_count": null,
      "outputs": []
    },
    {
      "cell_type": "code",
      "metadata": {
        "id": "EkIWoJLJNNNH"
      },
      "source": [
        "svm_grid3.best_params_"
      ],
      "execution_count": null,
      "outputs": []
    },
    {
      "cell_type": "code",
      "metadata": {
        "id": "bcul53FucV2_"
      },
      "source": [
        "result = result.append(pd.DataFrame({\n",
        "    'Modèle' : ['Support Vector Regressor'],\n",
        "    'Score_RMSE_test' : [math.sqrt(mean_squared_error(svm_grid1.predict(X_test), Y_test))],\n",
        "    'Score_R2_test':r2_score(svm_grid2.predict(X_test), Y_test),\n",
        "    'Score_MAE_test':mean_absolute_error(svm_grid3.predict(X_test), Y_test)\n",
        "    }))"
      ],
      "execution_count": null,
      "outputs": []
    },
    {
      "cell_type": "code",
      "metadata": {
        "id": "9HqNQQ-w4M-_"
      },
      "source": [
        "result"
      ],
      "execution_count": null,
      "outputs": []
    },
    {
      "cell_type": "code",
      "metadata": {
        "id": "3sGw7-eDaz0M"
      },
      "source": [
        " result_score= result_score.append(pd.DataFrame({\n",
        "    'Modèle' : ['Support Vector Regressor'],\n",
        "    'Score_RMSE':svm_grid1.best_score_,\n",
        "    'Score_R2':svm_grid2.best_score_,\n",
        "    'Score_MAE':svm_grid3.best_score_\n",
        "}))"
      ],
      "execution_count": null,
      "outputs": []
    },
    {
      "cell_type": "code",
      "metadata": {
        "id": "o7M-LJmuTNxe"
      },
      "source": [
        "result_score"
      ],
      "execution_count": null,
      "outputs": []
    },
    {
      "cell_type": "markdown",
      "metadata": {
        "id": "cx8Xa88tcm-Y"
      },
      "source": [
        "**XG Boost**"
      ]
    },
    {
      "cell_type": "code",
      "metadata": {
        "id": "geM1c2sdco7w"
      },
      "source": [
        "from xgboost import XGBRegressor\n",
        "param_grid= {'n_estimators' : [10,50,100,500,1000,2000], 'learning_rate' : [1,0.1,0.01,0.001,0.0001]}\n",
        "score = 'neg_mean_squared_error'\n",
        "xgb_grid= GridSearchCV(XGBRegressor(n_jobs=-1),param_grid,scoring = score,cv = 5,verbose=0)\n",
        "xgb_grid.fit(X_train,Y_train)"
      ],
      "execution_count": null,
      "outputs": []
    },
    {
      "cell_type": "code",
      "metadata": {
        "id": "p0Oj9hAHanp1"
      },
      "source": [
        "xgb_grid.best_params_"
      ],
      "execution_count": null,
      "outputs": []
    },
    {
      "cell_type": "code",
      "metadata": {
        "id": "7nNGORTkbRM2"
      },
      "source": [
        "xgb_grid.best_estimator_"
      ],
      "execution_count": null,
      "outputs": []
    },
    {
      "cell_type": "code",
      "metadata": {
        "id": "tuXRcCjZbUgC"
      },
      "source": [
        "xgb_grid.best_estimator_.feature_importances_"
      ],
      "execution_count": null,
      "outputs": []
    },
    {
      "cell_type": "code",
      "metadata": {
        "id": "uV6E9yzh5my7"
      },
      "source": [
        "df_xgb= pd.DataFrame({'Features' : X.columns,'Features_importances' : xgb_grid.best_estimator_.feature_importances_})"
      ],
      "execution_count": null,
      "outputs": []
    },
    {
      "cell_type": "code",
      "metadata": {
        "id": "LoD3z8i850X7"
      },
      "source": [
        "df_xgb.sort_values(by='Features_importances', ascending=False,inplace=True)"
      ],
      "execution_count": null,
      "outputs": []
    },
    {
      "cell_type": "code",
      "metadata": {
        "id": "l0SpQx44pOwx"
      },
      "source": [
        "df_xgb"
      ],
      "execution_count": null,
      "outputs": []
    },
    {
      "cell_type": "code",
      "metadata": {
        "id": "is1tIiE058ea"
      },
      "source": [
        "#df_xgb.sort_values(by='Features_importances', ascending=False,inplace=True)\n",
        "plt.figure(figsize=(10,10))\n",
        "plt.title('XGB - Importance des Features')\n",
        "sns.barplot(y = df_xgb['Features'],x = (df_xgb['Features_importances']))\n",
        "plt.show()"
      ],
      "execution_count": null,
      "outputs": []
    },
    {
      "cell_type": "code",
      "metadata": {
        "id": "v5RHM2KqLxYF"
      },
      "source": [
        "param_grid= {'n_estimators' : [100,500,1000,2000],'learning_rate' : [1,0.1,0.01,0.001,0.0001]}\n",
        "score = 'r2'\n",
        "xgb_grid2= GridSearchCV(XGBRegressor(n_jobs=-1),param_grid=param_grid,scoring = score,cv = 5,verbose=0)\n",
        "xgb_grid2.fit(X_train,Y_train)"
      ],
      "execution_count": null,
      "outputs": []
    },
    {
      "cell_type": "code",
      "metadata": {
        "id": "1fCITfNe6-rf"
      },
      "source": [
        "xgb_grid2.best_params_"
      ],
      "execution_count": null,
      "outputs": []
    },
    {
      "cell_type": "code",
      "metadata": {
        "id": "QyRDZV5I7CRv"
      },
      "source": [
        "xgb_grid2.best_estimator_"
      ],
      "execution_count": null,
      "outputs": []
    },
    {
      "cell_type": "code",
      "metadata": {
        "id": "_bJ7dCkg-kkT"
      },
      "source": [
        "from xgboost import XGBRegressor\n",
        "param_grid= {'n_estimators' : [100,500,1000,2000],'learning_rate' : [1,0.1,0.01,0.001,0.0001]}\n",
        "score = 'neg_mean_absolute_error'\n",
        "xgb_grid3 = GridSearchCV(XGBRegressor(n_jobs=-1),param_grid= param_grid,scoring = score,cv = 5,verbose=0)\n",
        "xgb_grid3.fit(X_train,Y_train)"
      ],
      "execution_count": null,
      "outputs": []
    },
    {
      "cell_type": "code",
      "metadata": {
        "id": "HFlmkRuZ7whS"
      },
      "source": [
        "xgb_grid3.best_params_"
      ],
      "execution_count": null,
      "outputs": []
    },
    {
      "cell_type": "code",
      "metadata": {
        "id": "i16xdqNx72wx"
      },
      "source": [
        "xgb_grid3.best_estimator_"
      ],
      "execution_count": null,
      "outputs": []
    },
    {
      "cell_type": "code",
      "metadata": {
        "id": "Vrj9h_SXbiUa"
      },
      "source": [
        "\n",
        "result = result.append(pd.DataFrame({\n",
        "    'Modèle' : ['XGBoost'],\n",
        "    'Score_RMSE_test' : [math.sqrt(mean_squared_error(xgb_grid.predict(X_test),Y_test))],\n",
        "    'Score_R2_test':r2_score(xgb_grid2.predict(X_test), Y_test),\n",
        "    'Score_MAE_test':mean_absolute_error(xgb_grid3.predict(X_test),Y_test)\n",
        "    }))"
      ],
      "execution_count": null,
      "outputs": []
    },
    {
      "cell_type": "code",
      "metadata": {
        "id": "7M_Drkbw8H1g"
      },
      "source": [
        "result"
      ],
      "execution_count": null,
      "outputs": []
    },
    {
      "cell_type": "code",
      "metadata": {
        "id": "D8U_-rVibKmr"
      },
      "source": [
        " result_score= result_score.append(pd.DataFrame({\n",
        "    'Modèle' : ['XGBoost'],\n",
        "    'Score_RMSE':xgb_grid.best_score_,\n",
        "    'Score_R2':xgb_grid2.best_score_,\n",
        "    'Score_MAE':xgb_grid3.best_score_\n",
        "}))"
      ],
      "execution_count": null,
      "outputs": []
    },
    {
      "cell_type": "markdown",
      "metadata": {
        "id": "aS6cD5kiCU_k"
      },
      "source": [
        "Comparaison des modeles selon le critere de score"
      ]
    },
    {
      "cell_type": "code",
      "metadata": {
        "id": "3I-TrKlzZIt1"
      },
      "source": [
        "result_score"
      ],
      "execution_count": null,
      "outputs": []
    },
    {
      "cell_type": "code",
      "metadata": {
        "id": "mV3aDboHcYCj"
      },
      "source": [
        "plt.figure(figsize=(10,4))\n",
        "plt.title('Comparaison des performances des modèles (jeu de test)')\n",
        "chart = sns.barplot(x = result['Modèle'],y = result['Score_RMSE_test'])\n",
        "#chart.set_xticklabels(labels = results['Modèle'], rotation=45,horizontalalignment='right',size=12,)\n",
        "\n",
        "plt.show()"
      ],
      "execution_count": null,
      "outputs": []
    },
    {
      "cell_type": "markdown",
      "metadata": {
        "id": "a0ZWIr7sCbZ-"
      },
      "source": [
        "Le temps de prediction pour chaque modele :"
      ]
    },
    {
      "cell_type": "code",
      "metadata": {
        "id": "59f5BbCK-3U1"
      },
      "source": [
        "%timeit svm_grid3.predict(X_test)"
      ],
      "execution_count": null,
      "outputs": []
    },
    {
      "cell_type": "code",
      "metadata": {
        "id": "uTve4-pcASW_"
      },
      "source": [
        "%timeit grid_Rforest3.predict(X_test)"
      ],
      "execution_count": null,
      "outputs": []
    },
    {
      "cell_type": "code",
      "metadata": {
        "id": "BfYqFQWiAaKB"
      },
      "source": [
        "%timeit grid_elastic3.predict(X_test)"
      ],
      "execution_count": null,
      "outputs": []
    },
    {
      "cell_type": "code",
      "metadata": {
        "id": "hfrYkCoxAecp"
      },
      "source": [
        "%timeit xgb_grid3.predict(X_test)"
      ],
      "execution_count": null,
      "outputs": []
    },
    {
      "cell_type": "markdown",
      "metadata": {
        "id": "qs8Sv75wAw24"
      },
      "source": [
        "l'algorithme qui predire  le plus rapidement est le XGBoost.\n",
        "\n",
        "le temps de prediction de XGBoost est plus faible que celui de random forest ( 2 fois plus faible), ce pourrait être un critère pour choisir éventuellement le XGBoost plutôt que le Random Forest Regressor"
      ]
    },
    {
      "cell_type": "code",
      "metadata": {
        "id": "fNm5DR_yFzDR"
      },
      "source": [
        "result.set_index(['Modèle'],inplace=True)"
      ],
      "execution_count": null,
      "outputs": []
    },
    {
      "cell_type": "code",
      "metadata": {
        "id": "bH6bY_tMGEKK"
      },
      "source": [
        "result.T.plot(kind='bar',title='Comparaison des performances des modèles',figsize=(8,8))"
      ],
      "execution_count": null,
      "outputs": []
    },
    {
      "cell_type": "code",
      "metadata": {
        "id": "3LwDNYcgb096"
      },
      "source": [
        "result_score.set_index(['Modèle'],inplace=True)"
      ],
      "execution_count": null,
      "outputs": []
    },
    {
      "cell_type": "code",
      "metadata": {
        "id": "K65XLhvFiv5L"
      },
      "source": [
        "result_score"
      ],
      "execution_count": null,
      "outputs": []
    },
    {
      "cell_type": "markdown",
      "metadata": {
        "id": "ijl0YjrbjNs3"
      },
      "source": [
        "pour sélectionner le model pour les étapes suivantes, on a fait une comparaison entre les scores et le temps de prediction"
      ]
    },
    {
      "cell_type": "markdown",
      "metadata": {
        "id": "E7POxVn4izgo"
      },
      "source": [
        "- GBoost et Random Forest Regressor sont les modèles avec la plus faible RMSE, avec une valeur très proche.\n",
        "- l'algorithme XGBoost predit le plus rapidement que Random Forest"
      ]
    },
    {
      "cell_type": "code",
      "metadata": {
        "id": "xZ20Y50Eb6IM"
      },
      "source": [
        "\n",
        "result_score.T.plot(kind='bar',title='Comparaison des performances des modèles',figsize=(8,8))"
      ],
      "execution_count": null,
      "outputs": []
    },
    {
      "cell_type": "code",
      "metadata": {
        "id": "tlu4TxhgmAtQ"
      },
      "source": [
        "result_score.set_index(['Modèle'],inplace=True)"
      ],
      "execution_count": null,
      "outputs": []
    },
    {
      "cell_type": "code",
      "metadata": {
        "id": "avYnl68Ql9Wr"
      },
      "source": [
        "result_score.set_index(['Modèle'],inplace=True)"
      ],
      "execution_count": null,
      "outputs": []
    },
    {
      "cell_type": "code",
      "metadata": {
        "id": "p49txPGKlYEZ"
      },
      "source": [
        "xgb_grid.best_params_"
      ],
      "execution_count": null,
      "outputs": []
    },
    {
      "cell_type": "code",
      "metadata": {
        "id": "UL0qPlxdlgd_"
      },
      "source": [
        "xgb_grid.best_estimator_"
      ],
      "execution_count": null,
      "outputs": []
    },
    {
      "cell_type": "markdown",
      "metadata": {
        "id": "R6fv9oCfnLdD"
      },
      "source": [
        "- Entrainons du modèle selectionnée le XGBoost avec les mêmes données mais de plus le variable d'Energy Star Score (\"ENERGYSTARScore\")"
      ]
    },
    {
      "cell_type": "code",
      "metadata": {
        "id": "H7W6ZShSYdDA"
      },
      "source": [
        "df1['ENERGYSTARScore'] = df1['ENERGYSTARScore'].astype('float')"
      ],
      "execution_count": null,
      "outputs": []
    },
    {
      "cell_type": "code",
      "metadata": {
        "id": "HAGj4DDr77jL"
      },
      "source": [
        "X1= df1.drop(['log_SiteEnergyUseWN(kBtu)'],axis=1)\n",
        "Y1= df1['log_SiteEnergyUseWN(kBtu)']\n",
        "xTrain, xTest, yTrain, yTest = train_test_split(X1, Y1, test_size=0.3)\n",
        "# standardiser les données\n",
        "std_scale = StandardScaler()\n",
        "xTrain = std_scale.fit_transform(xTrain) #X_train_std\n",
        "x_Test = std_scale.transform(xTest)#X_test_std"
      ],
      "execution_count": null,
      "outputs": []
    },
    {
      "cell_type": "code",
      "metadata": {
        "id": "J1at6FOk80hM"
      },
      "source": [
        "param_grid= {'n_estimators' : [10,50,100,500,1000,2000,3000], 'learning_rate' : [1,0.1,0.01,0.001,0.0001]}\n",
        "score = 'neg_mean_squared_error'\n",
        "xgb_grid_ES= GridSearchCV(XGBRegressor(n_jobs=-1),param_grid,scoring = score,cv = 5,verbose=0)\n",
        "xgb_grid_ES.fit(xTrain,yTrain)"
      ],
      "execution_count": null,
      "outputs": []
    },
    {
      "cell_type": "code",
      "metadata": {
        "id": "YI5YT5ZJ9HX4"
      },
      "source": [
        "xgb_grid_ES.best_params_"
      ],
      "execution_count": null,
      "outputs": []
    },
    {
      "cell_type": "code",
      "metadata": {
        "id": "6WCRuZ169IGu"
      },
      "source": [
        "xgb_grid_ES.best_estimator_"
      ],
      "execution_count": null,
      "outputs": []
    },
    {
      "cell_type": "code",
      "metadata": {
        "id": "G5KNoESq9XEw"
      },
      "source": [
        "xgb_grid_ES.best_score_"
      ],
      "execution_count": null,
      "outputs": []
    },
    {
      "cell_type": "markdown",
      "metadata": {
        "id": "pQ6IWcFEhcLy"
      },
      "source": [
        "La RMSE est plus petit que dans le cas du modèle sans energy score , le Energy Star Score améliore la performance et semble donc pertinent."
      ]
    },
    {
      "cell_type": "code",
      "metadata": {
        "id": "BDeztMDjF3xX"
      },
      "source": [
        "df_xgb_ES= pd.DataFrame({'Features' : X1.columns,'Features_importances' : xgb_grid_ES.best_estimator_.feature_importances_})"
      ],
      "execution_count": null,
      "outputs": []
    },
    {
      "cell_type": "code",
      "metadata": {
        "id": "Wj8no8GFG3qw"
      },
      "source": [
        "df_xgb_ES.sort_values(by='Features_importances', ascending=False,inplace=True)\n",
        "plt.figure(figsize=(10,10))\n",
        "plt.title('XGB - Importance des Features')\n",
        "sns.barplot(y = df_xgb_ES['Features'],x = (df_xgb_ES['Features_importances']))\n",
        "plt.show()"
      ],
      "execution_count": null,
      "outputs": []
    },
    {
      "cell_type": "code",
      "metadata": {
        "id": "7oBK3vUxXo7m"
      },
      "source": [
        "%timeit xgb_grid_ES.predict(x_Test)"
      ],
      "execution_count": null,
      "outputs": []
    },
    {
      "cell_type": "code",
      "metadata": {
        "id": "KbKbFoa9dV4Q"
      },
      "source": [
        "math.sqrt(mean_squared_error(xgb_grid_ES.predict(x_Test),yTest))"
      ],
      "execution_count": null,
      "outputs": []
    },
    {
      "cell_type": "code",
      "metadata": {
        "id": "NVo-PTjriUVD"
      },
      "source": [
        "pred_y= xgb_grid_ES.best_estimator_.predict(x_Test)"
      ],
      "execution_count": null,
      "outputs": []
    },
    {
      "cell_type": "code",
      "metadata": {
        "id": "sXOHRvoyh8Qx"
      },
      "source": [
        "pd.DataFrame({'emissions' : yTest, 'prediction_emission' : pred_y})"
      ],
      "execution_count": null,
      "outputs": []
    },
    {
      "cell_type": "code",
      "metadata": {
        "id": "dHyR5JzjiRPG"
      },
      "source": [
        "plt.figure(figsize=(8,8))\n",
        "plt.title('Comparaison des emissions prédictes et réels')\n",
        "sns.lineplot([10,20],[10,20], color='r')\n",
        "sns.scatterplot(yTest,pred_y)\n",
        "plt.show()"
      ],
      "execution_count": null,
      "outputs": []
    },
    {
      "cell_type": "markdown",
      "metadata": {
        "id": "SmOxWOBnC3a5"
      },
      "source": [
        "**Prediction de GHGEmissions Intensity**"
      ]
    },
    {
      "cell_type": "markdown",
      "metadata": {
        "id": "YJR51bOpDDIZ"
      },
      "source": [
        "1- sans Energyscore"
      ]
    },
    {
      "cell_type": "code",
      "metadata": {
        "id": "qHuR-5fi8SZ1"
      },
      "source": [
        "X2= df2.drop(['log_GHGEmissionsIntensity','ENERGYSTARScore'],axis=1)\n",
        "Y2= df2['log_GHGEmissionsIntensity']\n",
        "XTrain, XTest, YTrain, YTest = train_test_split(X2, Y2, test_size=0.3)\n",
        "# standardiser les données\n",
        "std_scale = StandardScaler()\n",
        "XTrain = std_scale.fit_transform(XTrain) #X_train_std\n",
        "XTest = std_scale.transform(XTest)#X_test_std"
      ],
      "execution_count": null,
      "outputs": []
    },
    {
      "cell_type": "code",
      "metadata": {
        "id": "4gqwgPVoDSMU"
      },
      "source": [
        "from sklearn.linear_model import ElasticNet\n",
        "param_grid = {'alpha':[0.0001, 0.001, 0.01, 0.1, 1, 10], 'l1_ratio':np.arange(0.0, 1.0, 0.1) }\n",
        "# critère de sélection du meilleur modèle :RMSE\n",
        "score = 'neg_mean_squared_error'\n",
        "\n",
        "grid_elastic_1 = GridSearchCV(estimator = ElasticNet(),param_grid= param_grid,scoring= score,cv=5,verbose=0)\n",
        "\n",
        "grid_elastic_1.fit(XTrain, YTrain)\n",
        "\n",
        "print(\"The optimal parameters are {} with a score of {:.2f}\".format(grid_elastic_1.best_params_, grid_elastic_1.best_score_))"
      ],
      "execution_count": null,
      "outputs": []
    },
    {
      "cell_type": "code",
      "metadata": {
        "id": "CSV4EGi6Z_ox"
      },
      "source": [
        "grid_elastic_1.best_estimator_"
      ],
      "execution_count": null,
      "outputs": []
    },
    {
      "cell_type": "code",
      "metadata": {
        "id": "MXdi_sHS9CUo"
      },
      "source": [
        "param_grid = {'alpha':[0.0001, 0.001, 0.01, 0.1, 1, 10], 'l1_ratio':np.arange(0.0, 1.0, 0.1) }\n",
        "score = 'r2'\n",
        "\n",
        "grid_elastic_2 = GridSearchCV(estimator = ElasticNet(),param_grid= param_grid,scoring= score,cv=5,verbose=0)\n",
        "\n",
        "grid_elastic_2.fit(XTrain, YTrain)\n",
        "\n",
        "print(\"The optimal parameters are {} with a score of {:.2f}\".format(grid_elastic_2.best_params_, grid_elastic_2.best_score_))"
      ],
      "execution_count": null,
      "outputs": []
    },
    {
      "cell_type": "code",
      "metadata": {
        "id": "UIXWoq1X-IXx"
      },
      "source": [
        "param_grid = {'alpha':[0.0001, 0.001, 0.01, 0.1, 1, 10], 'l1_ratio':np.arange(0.0, 1.0, 0.1) }\n",
        "score = 'neg_mean_absolute_error'\n",
        "\n",
        "grid_elastic_3 = GridSearchCV(estimator = ElasticNet(),param_grid= param_grid,scoring= score,cv=5,verbose=0)\n",
        "\n",
        "grid_elastic_3.fit(XTrain, YTrain)\n",
        "\n",
        "print(\"The optimal parameters are {} with a score of {:.2f}\".format(grid_elastic_3.best_params_, grid_elastic_3.best_score_))"
      ],
      "execution_count": null,
      "outputs": []
    },
    {
      "cell_type": "code",
      "metadata": {
        "id": "JmNm8R7S-ayF"
      },
      "source": [
        " result_sc= pd.DataFrame({\n",
        "    'Modèle' : ['elastic net'],\n",
        "    'Score_RMSE':grid_elastic_1.best_score_,\n",
        "    'Score_R2':grid_elastic_2.best_score_,\n",
        "    'Score_MAE':grid_elastic_3.best_score_\n",
        "\n",
        "})"
      ],
      "execution_count": null,
      "outputs": []
    },
    {
      "cell_type": "code",
      "metadata": {
        "id": "4XsWLS0FWSjn"
      },
      "source": [
        "from sklearn.ensemble import RandomForestRegressor\n",
        "param_grid= {'max_depth': [5,10,15,20],'max_features':['auto', 'sqrt','log2'],'min_samples_leaf':[1,3,5,10]}\n",
        "score='neg_mean_squared_error'\n",
        "grid_Rforest_1 = GridSearchCV(estimator = RandomForestRegressor(n_estimators=500,random_state=123),param_grid= param_grid,scoring= score,cv=5,verbose=0)\n",
        "grid_Rforest_1.fit(XTrain, YTrain)"
      ],
      "execution_count": null,
      "outputs": []
    },
    {
      "cell_type": "code",
      "metadata": {
        "id": "9tu7R2H-Z18A"
      },
      "source": [
        "grid_Rforest_1.best_params_"
      ],
      "execution_count": null,
      "outputs": []
    },
    {
      "cell_type": "code",
      "metadata": {
        "id": "PX3J1y1-rS8E"
      },
      "source": [
        "grid_Rforest_1.best_estimator_"
      ],
      "execution_count": null,
      "outputs": []
    },
    {
      "cell_type": "code",
      "metadata": {
        "id": "qbwcBTKArVW0"
      },
      "source": [
        "grid_Rforest_1.best_score_"
      ],
      "execution_count": null,
      "outputs": []
    },
    {
      "cell_type": "code",
      "metadata": {
        "id": "v8qjBgUr_egx"
      },
      "source": [
        "param_grid= {'max_depth': [5,10,15,20],'max_features':['auto', 'sqrt','log2'],'min_samples_leaf':[1,3,5,10]}\n",
        "score='r2'\n",
        "grid_Rforest_2 = GridSearchCV(estimator = RandomForestRegressor(n_estimators=500,random_state=123),param_grid= param_grid,scoring= score,cv=5,verbose=0)\n",
        "grid_Rforest_2.fit(XTrain, YTrain)"
      ],
      "execution_count": null,
      "outputs": []
    },
    {
      "cell_type": "code",
      "metadata": {
        "id": "gpiuo5IpW5cE"
      },
      "source": [
        "grid_Rforest_2.best_params_"
      ],
      "execution_count": null,
      "outputs": []
    },
    {
      "cell_type": "code",
      "metadata": {
        "id": "VFI0UsYKW_DV"
      },
      "source": [
        "param_grid= {'max_depth': [5,10,15,20],'max_features':['auto', 'sqrt','log2'],'min_samples_leaf':[1,3,5,10]}\n",
        "score='neg_mean_absolute_error'\n",
        "grid_Rforest_3 = GridSearchCV(estimator = RandomForestRegressor(n_estimators=500,random_state=123),param_grid= param_grid,scoring= score,cv=5,verbose=0)\n",
        "grid_Rforest_3.fit(XTrain, YTrain)"
      ],
      "execution_count": null,
      "outputs": []
    },
    {
      "cell_type": "code",
      "metadata": {
        "id": "Z2Ag3bJXaett"
      },
      "source": [
        "result_sc= result_sc.append(pd.DataFrame({\n",
        "    'Modèle' : ['Random forest'],\n",
        "    'Score_RMSE':grid_Rforest_1.best_score_,\n",
        "    'Score_R2':grid_Rforest_2.best_score_,\n",
        "    'Score_MAE':grid_Rforest_3.best_score_\n",
        "}))"
      ],
      "execution_count": null,
      "outputs": []
    },
    {
      "cell_type": "code",
      "metadata": {
        "id": "_0ZjoZ63bCtA"
      },
      "source": [
        "result_sc"
      ],
      "execution_count": null,
      "outputs": []
    },
    {
      "cell_type": "code",
      "metadata": {
        "id": "dgzp-wPHWezY"
      },
      "source": [
        "from sklearn.svm import SVR #Support Vector Regression\n",
        "param_grid= {'gamma' : [1e-2, 1e-3, 1e-4, 1e-5],\n",
        "              'epsilon' : [0.001, 0.01, 0.1, 1], #erreur tolérée par l'algorithme\n",
        "              'C' : [0.001, 0.10, 0.1, 10, 25, 50,100]} #terme de regularisation qui maximisez la marge et minimisez un terme d'erreur\n",
        "\n",
        "svm_grid_1= GridSearchCV(estimator = SVR(),param_grid=param_grid,scoring ='neg_mean_squared_error',cv=5,verbose=0)\n",
        "\n",
        "svm_grid_1.fit(XTrain, YTrain)"
      ],
      "execution_count": null,
      "outputs": []
    },
    {
      "cell_type": "code",
      "metadata": {
        "id": "wBs9nIfFZuLI"
      },
      "source": [
        "svm_grid_1.best_params_"
      ],
      "execution_count": null,
      "outputs": []
    },
    {
      "cell_type": "code",
      "metadata": {
        "id": "h5XMRnfI17Et"
      },
      "source": [
        "svm_grid_1.best_estimator_"
      ],
      "execution_count": null,
      "outputs": []
    },
    {
      "cell_type": "code",
      "metadata": {
        "id": "6wq9ws4I18ba"
      },
      "source": [
        "svm_grid_1.best_score_"
      ],
      "execution_count": null,
      "outputs": []
    },
    {
      "cell_type": "code",
      "metadata": {
        "id": "cne5EiYpbM7b"
      },
      "source": [
        "param_grid= {'gamma' : [1e-2, 1e-3, 1e-4, 1e-5],\n",
        "              'epsilon' : [0.001, 0.01, 0.1, 1],\n",
        "              'C' : [0.001, 0.10, 0.1, 10, 25, 50,100]}\n",
        "\n",
        "svm_grid_2= GridSearchCV(estimator = SVR(),param_grid=param_grid,scoring ='r2',cv=5,verbose=0)\n",
        "\n",
        "svm_grid_2.fit(XTrain, YTrain)"
      ],
      "execution_count": null,
      "outputs": []
    },
    {
      "cell_type": "code",
      "metadata": {
        "id": "7temN2v0c8_P"
      },
      "source": [
        "svm_grid_2.best_params_"
      ],
      "execution_count": null,
      "outputs": []
    },
    {
      "cell_type": "code",
      "metadata": {
        "id": "tq6-3quLdFaK"
      },
      "source": [
        "param_grid= {'gamma' : [1e-2, 1e-3, 1e-4, 1e-5],\n",
        "              'epsilon' : [0.001, 0.01, 0.1, 1],\n",
        "              'C' : [0.001, 0.10, 0.1, 10, 25, 50,100]}\n",
        "\n",
        "svm_grid_3= GridSearchCV(estimator = SVR(),param_grid=param_grid,scoring ='neg_mean_absolute_error',cv=5,verbose=0)\n",
        "\n",
        "svm_grid_3.fit(XTrain, YTrain)"
      ],
      "execution_count": null,
      "outputs": []
    },
    {
      "cell_type": "code",
      "metadata": {
        "id": "bCMGKKxoakv5"
      },
      "source": [
        "result_sc= result_sc.append(pd.DataFrame({\n",
        "    'Modèle' : ['Support Vector Regressor'],\n",
        "    'Score_RMSE':svm_grid_1.best_score_,\n",
        "    'Score_R2':svm_grid_2.best_score_,\n",
        "    'Score_MAE':svm_grid_3.best_score_\n",
        "\n",
        "}))"
      ],
      "execution_count": null,
      "outputs": []
    },
    {
      "cell_type": "code",
      "metadata": {
        "id": "Ce2vF6x2f5Ha"
      },
      "source": [
        "result_sc"
      ],
      "execution_count": null,
      "outputs": []
    },
    {
      "cell_type": "code",
      "metadata": {
        "id": "Z3OyB2cHXVQd"
      },
      "source": [
        "from xgboost import XGBRegressor\n",
        "param_grid= {'n_estimators' : [10,50,100,500,1000,2000], 'learning_rate' : [1,0.1,0.01,0.001,0.0001]}\n",
        "score = 'neg_mean_squared_error'\n",
        "xgb_grid_1= GridSearchCV(XGBRegressor(n_jobs=-1),param_grid,scoring = score,cv = 5,verbose=0)\n",
        "xgb_grid_1.fit(XTrain,YTrain)"
      ],
      "execution_count": null,
      "outputs": []
    },
    {
      "cell_type": "code",
      "metadata": {
        "id": "QJ1mpyKDZlW_"
      },
      "source": [
        "xgb_grid_1.best_params_"
      ],
      "execution_count": null,
      "outputs": []
    },
    {
      "cell_type": "code",
      "metadata": {
        "id": "VKqMXn9W8oTy"
      },
      "source": [
        "xgb_grid_1.best_estimator_"
      ],
      "execution_count": null,
      "outputs": []
    },
    {
      "cell_type": "code",
      "metadata": {
        "id": "kSMXUWaC8sI3"
      },
      "source": [
        "xgb_grid_1.best_score_"
      ],
      "execution_count": null,
      "outputs": []
    },
    {
      "cell_type": "code",
      "metadata": {
        "id": "wuXGkZBCgAHK"
      },
      "source": [
        "param_grid= {'n_estimators' : [10,50,100,500,1000,2000], 'learning_rate' : [1,0.1,0.01,0.001,0.0001]}\n",
        "score = 'r2'\n",
        "xgb_grid_2= GridSearchCV(XGBRegressor(n_jobs=-1),param_grid,scoring = score,cv = 5,verbose=0)\n",
        "xgb_grid_2.fit(XTrain,YTrain)"
      ],
      "execution_count": null,
      "outputs": []
    },
    {
      "cell_type": "code",
      "metadata": {
        "id": "ctCxhvnPhWwa"
      },
      "source": [
        "param_grid= {'n_estimators' : [10,50,100,500,1000,2000], 'learning_rate' : [1,0.1,0.01,0.001,0.0001]}\n",
        "score = 'neg_mean_absolute_error'\n",
        "xgb_grid_3= GridSearchCV(XGBRegressor(n_jobs=-1),param_grid,scoring = score,cv = 5,verbose=0)\n",
        "xgb_grid_3.fit(XTrain,YTrain)"
      ],
      "execution_count": null,
      "outputs": []
    },
    {
      "cell_type": "code",
      "metadata": {
        "id": "5BZADbHHhY6h"
      },
      "source": [
        "result_sc= result_sc.append(pd.DataFrame({\n",
        "    'Modèle' : ['XGBoost'],\n",
        "    'Score_RMSE':xgb_grid_1.best_score_,\n",
        "    'Score_R2':xgb_grid_2.best_score_,\n",
        "    'Score_MAE':xgb_grid_3.best_score_\n",
        "}))"
      ],
      "execution_count": null,
      "outputs": []
    },
    {
      "cell_type": "markdown",
      "metadata": {
        "id": "9derwfJZfnHw"
      },
      "source": [
        "Comparons les modèles sur les critères de la RMSE, R2 et MAE\n"
      ]
    },
    {
      "cell_type": "code",
      "metadata": {
        "id": "8Br-liya8wSs"
      },
      "source": [
        "result_sc"
      ],
      "execution_count": null,
      "outputs": []
    },
    {
      "cell_type": "code",
      "metadata": {
        "id": "B31p9NMXnbfS"
      },
      "source": [
        "result_sc[['Score_RMSE','Score_MAE']]= abs(result_sc[['Score_RMSE','Score_MAE']])"
      ],
      "execution_count": null,
      "outputs": []
    },
    {
      "cell_type": "code",
      "metadata": {
        "id": "8KzFu5wmmHNG"
      },
      "source": [
        "#result_sc.set_index(['Modèle'],inplace=True)\n",
        "result_sc.T.plot(kind='bar',title='Comparaison des performances des modèles',figsize=(8,8))"
      ],
      "execution_count": null,
      "outputs": []
    },
    {
      "cell_type": "markdown",
      "metadata": {
        "id": "XXE6xk_tDMco"
      },
      "source": [
        "Le random forest et le XGBoost sont les modeles avec les plus faibles RMSE et le plus haut R2 avec des valeurs tres proches"
      ]
    },
    {
      "cell_type": "markdown",
      "metadata": {
        "id": "yKNc7NCAC0jb"
      },
      "source": [
        "Temps de prediction pour chaque model :"
      ]
    },
    {
      "cell_type": "code",
      "metadata": {
        "id": "TwTyJnxHoaDs"
      },
      "source": [
        "%timeit svm_grid_1.predict(XTest)"
      ],
      "execution_count": null,
      "outputs": []
    },
    {
      "cell_type": "code",
      "metadata": {
        "id": "AVxr9H9ZojN3"
      },
      "source": [
        "%timeit xgb_grid_1.predict(XTest)"
      ],
      "execution_count": null,
      "outputs": []
    },
    {
      "cell_type": "code",
      "metadata": {
        "id": "WSnj7J2cozJj"
      },
      "source": [
        "%timeit grid_Rforest_1.predict(XTest)"
      ],
      "execution_count": null,
      "outputs": []
    },
    {
      "cell_type": "code",
      "metadata": {
        "id": "xPDFLv2vo-R3"
      },
      "source": [
        "%timeit grid_elastic_1.predict(XTest)"
      ],
      "execution_count": null,
      "outputs": []
    },
    {
      "cell_type": "markdown",
      "metadata": {
        "id": "fAQiz_1rDE5r"
      },
      "source": [
        "le modele qui predire le plus rappidement est XGBoost"
      ]
    },
    {
      "cell_type": "markdown",
      "metadata": {
        "id": "PgnVbuHiDcG8"
      },
      "source": [
        "le modele finale selectionnée pour predire l'emission est le XGBoost."
      ]
    },
    {
      "cell_type": "markdown",
      "metadata": {
        "id": "OH-J0wcmC5tu"
      },
      "source": [
        "2- Entrainement du modele finale selectionnée Avec Energystarscore"
      ]
    },
    {
      "cell_type": "code",
      "metadata": {
        "id": "ffHdBxGUR4SX"
      },
      "source": [
        "df2['ENERGYSTARScore'] = df2['ENERGYSTARScore'].astype('float')"
      ],
      "execution_count": null,
      "outputs": []
    },
    {
      "cell_type": "code",
      "metadata": {
        "id": "xWnjppnUSBqk"
      },
      "source": [
        "X2_es= df2.drop(['log_GHGEmissionsIntensity'],axis=1)\n",
        "Y2_es= df2['log_GHGEmissionsIntensity']\n",
        "X_Train, X_Test, Y_Train, Y_Test = train_test_split(X2_es, Y2_es, test_size=0.3)\n",
        "# standardiser les données\n",
        "std_scale = StandardScaler()\n",
        "X_Train = std_scale.fit_transform(X_Train) #X_train_std\n",
        "X_Test = std_scale.transform(X_Test)#X_test_std"
      ],
      "execution_count": null,
      "outputs": []
    },
    {
      "cell_type": "code",
      "metadata": {
        "id": "-eIgKRgfSuy5"
      },
      "source": [
        "param_grid= {'n_estimators' : [10,50,100,500,1000,2000,3000], 'learning_rate' : [1,0.1,0.01,0.001,0.0001]}\n",
        "score = 'neg_mean_squared_error'\n",
        "xgb_grid_E= GridSearchCV(XGBRegressor(n_jobs=-1),param_grid,scoring = score,cv = 5,verbose=0)\n",
        "xgb_grid_E.fit(X_Train,Y_Train)"
      ],
      "execution_count": null,
      "outputs": []
    },
    {
      "cell_type": "code",
      "metadata": {
        "id": "kuTkb_w8TBZZ"
      },
      "source": [
        "xgb_grid_E.best_params_"
      ],
      "execution_count": null,
      "outputs": []
    },
    {
      "cell_type": "code",
      "metadata": {
        "id": "mGPKIg0GTnu9"
      },
      "source": [
        "xgb_grid_E.best_estimator_"
      ],
      "execution_count": null,
      "outputs": []
    },
    {
      "cell_type": "code",
      "metadata": {
        "id": "SdF9tQilTlwE"
      },
      "source": [
        "xgb_grid_E.best_score_"
      ],
      "execution_count": null,
      "outputs": []
    },
    {
      "cell_type": "code",
      "metadata": {
        "id": "yUE8kLITVc7d"
      },
      "source": [
        "%timeit xgb_grid_E.predict(X_Test)"
      ],
      "execution_count": null,
      "outputs": []
    },
    {
      "cell_type": "code",
      "metadata": {
        "id": "fVadUn4vTWwR"
      },
      "source": [
        "df_xgb_E= pd.DataFrame({'Features' : X2_es.columns,'Features_importances' : xgb_grid_E.best_estimator_.feature_importances_})"
      ],
      "execution_count": null,
      "outputs": []
    },
    {
      "cell_type": "code",
      "metadata": {
        "id": "FBgPaLoFTUqc"
      },
      "source": [
        "df_xgb_E.sort_values(by='Features_importances', ascending=False,inplace=True)\n",
        "plt.figure(figsize=(10,10))\n",
        "plt.title('XGB - Importance des Features')\n",
        "sns.barplot(y = df_xgb_E['Features'],x = (df_xgb_E['Features_importances']))\n",
        "plt.show()"
      ],
      "execution_count": null,
      "outputs": []
    },
    {
      "cell_type": "code",
      "metadata": {
        "id": "Lrnjco7KTifN"
      },
      "source": [
        "prediction_y= xgb_grid_E.best_estimator_.predict(X_Test)\n",
        "pd.DataFrame({'emissions' : Y_Test, 'prediction_emission' : prediction_y})"
      ],
      "execution_count": null,
      "outputs": []
    },
    {
      "cell_type": "code",
      "metadata": {
        "id": "8P_gKrDHTeI0"
      },
      "source": [
        "plt.figure(figsize=(8,8))\n",
        "plt.title('Comparaison des emissions prédictes et réels')\n",
        "sns.lineplot([-6,6],[-6,6], color='r')\n",
        "sns.scatterplot(Y_Test,prediction_y)\n",
        "plt.show()"
      ],
      "execution_count": null,
      "outputs": []
    },
    {
      "cell_type": "markdown",
      "metadata": {
        "id": "cyq8o3rftHJC"
      },
      "source": [
        "**Conclusion**"
      ]
    },
    {
      "cell_type": "markdown",
      "metadata": {
        "id": "OJd5yuC6tLud"
      },
      "source": [
        "- Le modèle final retenu pour la prediction de consommation est le XGBoost entraîné sur toutes les features et avec les paramètres optimal suivants: {'learning_rate': 0.01, 'n_estimators': 2000}  \n",
        "- Le modèle finale retenu pour la prediction d'émissions est  XGBoost entraîné sur toutes les features(avec energy star score) , et avec les paramètres optimal suivants: {'learning_rate': 0.01, 'n_estimators': 3000}\n",
        "- L'utilisation de l'energy star score à ameliore la performance du modele.\n"
      ]
    }
  ]
}